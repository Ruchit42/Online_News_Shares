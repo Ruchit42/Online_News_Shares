{
  "cells": [
    {
      "cell_type": "markdown",
      "metadata": {
        "id": "view-in-github",
        "colab_type": "text"
      },
      "source": [
        "<a href=\"https://colab.research.google.com/github/Ruchit42/Online_News_Shares/blob/main/Capstone_News_shares_current_version.ipynb\" target=\"_parent\"><img src=\"https://colab.research.google.com/assets/colab-badge.svg\" alt=\"Open In Colab\"/></a>"
      ]
    },
    {
      "cell_type": "code",
      "execution_count": null,
      "metadata": {
        "id": "SCzn2vw_KuEb"
      },
      "outputs": [],
      "source": [
        "#Installing Libraries important for analysis\n",
        "import numpy as np\n",
        "import pandas as pd\n",
        "import seaborn as sns\n",
        "import matplotlib.pyplot as plt\n",
        "from sklearn.ensemble import GradientBoostingRegressor\n",
        "from sklearn.model_selection import train_test_split\n",
        "from sklearn.metrics import mean_squared_error\n"
      ]
    },
    {
      "cell_type": "code",
      "execution_count": null,
      "metadata": {
        "id": "PFmPrz-JMabj"
      },
      "outputs": [],
      "source": [
        "# Load the csv file which contains the dataset\n",
        "df = pd.read_csv('/content/sample_data/OnlineNewsPopularity.csv',index_col = 0)#--setting index col allows selecting data by labels (further below)\n",
        "\n"
      ]
    },
    {
      "cell_type": "code",
      "execution_count": null,
      "metadata": {
        "colab": {
          "base_uri": "https://localhost:8080/",
          "height": 373
        },
        "id": "PgWW8uFlO8ra",
        "outputId": "05214738-ee4a-48a1-c9b1-7daaab89bf00"
      },
      "outputs": [
        {
          "output_type": "execute_result",
          "data": {
            "text/plain": [
              "                                                    timedelta  n_tokens_title  \\\n",
              "url                                                                             \n",
              "http://mashable.com/2013/01/07/amazon-instant-v...        731              12   \n",
              "http://mashable.com/2013/01/07/ap-samsung-spons...        731               9   \n",
              "http://mashable.com/2013/01/07/apple-40-billion...        731               9   \n",
              "http://mashable.com/2013/01/07/astronaut-notre-...        731               9   \n",
              "http://mashable.com/2013/01/07/att-u-verse-apps/          731              13   \n",
              "\n",
              "                                                    n_tokens_content  \\\n",
              "url                                                                    \n",
              "http://mashable.com/2013/01/07/amazon-instant-v...               219   \n",
              "http://mashable.com/2013/01/07/ap-samsung-spons...               255   \n",
              "http://mashable.com/2013/01/07/apple-40-billion...               211   \n",
              "http://mashable.com/2013/01/07/astronaut-notre-...               531   \n",
              "http://mashable.com/2013/01/07/att-u-verse-apps/                1072   \n",
              "\n",
              "                                                    n_unique_tokens  \\\n",
              "url                                                                   \n",
              "http://mashable.com/2013/01/07/amazon-instant-v...         0.663594   \n",
              "http://mashable.com/2013/01/07/ap-samsung-spons...         0.604743   \n",
              "http://mashable.com/2013/01/07/apple-40-billion...         0.575130   \n",
              "http://mashable.com/2013/01/07/astronaut-notre-...         0.503788   \n",
              "http://mashable.com/2013/01/07/att-u-verse-apps/           0.415646   \n",
              "\n",
              "                                                    n_non_stop_words  \\\n",
              "url                                                                    \n",
              "http://mashable.com/2013/01/07/amazon-instant-v...               1.0   \n",
              "http://mashable.com/2013/01/07/ap-samsung-spons...               1.0   \n",
              "http://mashable.com/2013/01/07/apple-40-billion...               1.0   \n",
              "http://mashable.com/2013/01/07/astronaut-notre-...               1.0   \n",
              "http://mashable.com/2013/01/07/att-u-verse-apps/                 1.0   \n",
              "\n",
              "                                                    n_non_stop_unique_tokens  \\\n",
              "url                                                                            \n",
              "http://mashable.com/2013/01/07/amazon-instant-v...                  0.815385   \n",
              "http://mashable.com/2013/01/07/ap-samsung-spons...                  0.791946   \n",
              "http://mashable.com/2013/01/07/apple-40-billion...                  0.663866   \n",
              "http://mashable.com/2013/01/07/astronaut-notre-...                  0.665635   \n",
              "http://mashable.com/2013/01/07/att-u-verse-apps/                    0.540890   \n",
              "\n",
              "                                                    num_hrefs  num_self_hrefs  \\\n",
              "url                                                                             \n",
              "http://mashable.com/2013/01/07/amazon-instant-v...          4               2   \n",
              "http://mashable.com/2013/01/07/ap-samsung-spons...          3               1   \n",
              "http://mashable.com/2013/01/07/apple-40-billion...          3               1   \n",
              "http://mashable.com/2013/01/07/astronaut-notre-...          9               0   \n",
              "http://mashable.com/2013/01/07/att-u-verse-apps/           19              19   \n",
              "\n",
              "                                                    num_imgs  num_videos  ...  \\\n",
              "url                                                                       ...   \n",
              "http://mashable.com/2013/01/07/amazon-instant-v...         1           0  ...   \n",
              "http://mashable.com/2013/01/07/ap-samsung-spons...         1           0  ...   \n",
              "http://mashable.com/2013/01/07/apple-40-billion...         1           0  ...   \n",
              "http://mashable.com/2013/01/07/astronaut-notre-...         1           0  ...   \n",
              "http://mashable.com/2013/01/07/att-u-verse-apps/          20           0  ...   \n",
              "\n",
              "                                                    min_positive_polarity  \\\n",
              "url                                                                         \n",
              "http://mashable.com/2013/01/07/amazon-instant-v...               0.100000   \n",
              "http://mashable.com/2013/01/07/ap-samsung-spons...               0.033333   \n",
              "http://mashable.com/2013/01/07/apple-40-billion...               0.100000   \n",
              "http://mashable.com/2013/01/07/astronaut-notre-...               0.136364   \n",
              "http://mashable.com/2013/01/07/att-u-verse-apps/                 0.033333   \n",
              "\n",
              "                                                    max_positive_polarity  \\\n",
              "url                                                                         \n",
              "http://mashable.com/2013/01/07/amazon-instant-v...                    0.7   \n",
              "http://mashable.com/2013/01/07/ap-samsung-spons...                    0.7   \n",
              "http://mashable.com/2013/01/07/apple-40-billion...                    1.0   \n",
              "http://mashable.com/2013/01/07/astronaut-notre-...                    0.8   \n",
              "http://mashable.com/2013/01/07/att-u-verse-apps/                      1.0   \n",
              "\n",
              "                                                    avg_negative_polarity  \\\n",
              "url                                                                         \n",
              "http://mashable.com/2013/01/07/amazon-instant-v...              -0.350000   \n",
              "http://mashable.com/2013/01/07/ap-samsung-spons...              -0.118750   \n",
              "http://mashable.com/2013/01/07/apple-40-billion...              -0.466667   \n",
              "http://mashable.com/2013/01/07/astronaut-notre-...              -0.369697   \n",
              "http://mashable.com/2013/01/07/att-u-verse-apps/                -0.220192   \n",
              "\n",
              "                                                    min_negative_polarity  \\\n",
              "url                                                                         \n",
              "http://mashable.com/2013/01/07/amazon-instant-v...                 -0.600   \n",
              "http://mashable.com/2013/01/07/ap-samsung-spons...                 -0.125   \n",
              "http://mashable.com/2013/01/07/apple-40-billion...                 -0.800   \n",
              "http://mashable.com/2013/01/07/astronaut-notre-...                 -0.600   \n",
              "http://mashable.com/2013/01/07/att-u-verse-apps/                   -0.500   \n",
              "\n",
              "                                                    max_negative_polarity  \\\n",
              "url                                                                         \n",
              "http://mashable.com/2013/01/07/amazon-instant-v...              -0.200000   \n",
              "http://mashable.com/2013/01/07/ap-samsung-spons...              -0.100000   \n",
              "http://mashable.com/2013/01/07/apple-40-billion...              -0.133333   \n",
              "http://mashable.com/2013/01/07/astronaut-notre-...              -0.166667   \n",
              "http://mashable.com/2013/01/07/att-u-verse-apps/                -0.050000   \n",
              "\n",
              "                                                    title_subjectivity  \\\n",
              "url                                                                      \n",
              "http://mashable.com/2013/01/07/amazon-instant-v...            0.500000   \n",
              "http://mashable.com/2013/01/07/ap-samsung-spons...            0.000000   \n",
              "http://mashable.com/2013/01/07/apple-40-billion...            0.000000   \n",
              "http://mashable.com/2013/01/07/astronaut-notre-...            0.000000   \n",
              "http://mashable.com/2013/01/07/att-u-verse-apps/              0.454545   \n",
              "\n",
              "                                                    title_sentiment_polarity  \\\n",
              "url                                                                            \n",
              "http://mashable.com/2013/01/07/amazon-instant-v...                 -0.187500   \n",
              "http://mashable.com/2013/01/07/ap-samsung-spons...                  0.000000   \n",
              "http://mashable.com/2013/01/07/apple-40-billion...                  0.000000   \n",
              "http://mashable.com/2013/01/07/astronaut-notre-...                  0.000000   \n",
              "http://mashable.com/2013/01/07/att-u-verse-apps/                    0.136364   \n",
              "\n",
              "                                                    abs_title_subjectivity  \\\n",
              "url                                                                          \n",
              "http://mashable.com/2013/01/07/amazon-instant-v...                0.000000   \n",
              "http://mashable.com/2013/01/07/ap-samsung-spons...                0.500000   \n",
              "http://mashable.com/2013/01/07/apple-40-billion...                0.500000   \n",
              "http://mashable.com/2013/01/07/astronaut-notre-...                0.500000   \n",
              "http://mashable.com/2013/01/07/att-u-verse-apps/                  0.045455   \n",
              "\n",
              "                                                    abs_title_sentiment_polarity  \\\n",
              "url                                                                                \n",
              "http://mashable.com/2013/01/07/amazon-instant-v...                      0.187500   \n",
              "http://mashable.com/2013/01/07/ap-samsung-spons...                      0.000000   \n",
              "http://mashable.com/2013/01/07/apple-40-billion...                      0.000000   \n",
              "http://mashable.com/2013/01/07/astronaut-notre-...                      0.000000   \n",
              "http://mashable.com/2013/01/07/att-u-verse-apps/                        0.136364   \n",
              "\n",
              "                                                    shares  \n",
              "url                                                         \n",
              "http://mashable.com/2013/01/07/amazon-instant-v...     593  \n",
              "http://mashable.com/2013/01/07/ap-samsung-spons...     711  \n",
              "http://mashable.com/2013/01/07/apple-40-billion...    1500  \n",
              "http://mashable.com/2013/01/07/astronaut-notre-...    1200  \n",
              "http://mashable.com/2013/01/07/att-u-verse-apps/       505  \n",
              "\n",
              "[5 rows x 60 columns]"
            ],
            "text/html": [
              "\n",
              "  <div id=\"df-8e86d47f-5033-49c3-a147-8e464fd830d0\" class=\"colab-df-container\">\n",
              "    <div>\n",
              "<style scoped>\n",
              "    .dataframe tbody tr th:only-of-type {\n",
              "        vertical-align: middle;\n",
              "    }\n",
              "\n",
              "    .dataframe tbody tr th {\n",
              "        vertical-align: top;\n",
              "    }\n",
              "\n",
              "    .dataframe thead th {\n",
              "        text-align: right;\n",
              "    }\n",
              "</style>\n",
              "<table border=\"1\" class=\"dataframe\">\n",
              "  <thead>\n",
              "    <tr style=\"text-align: right;\">\n",
              "      <th></th>\n",
              "      <th>timedelta</th>\n",
              "      <th>n_tokens_title</th>\n",
              "      <th>n_tokens_content</th>\n",
              "      <th>n_unique_tokens</th>\n",
              "      <th>n_non_stop_words</th>\n",
              "      <th>n_non_stop_unique_tokens</th>\n",
              "      <th>num_hrefs</th>\n",
              "      <th>num_self_hrefs</th>\n",
              "      <th>num_imgs</th>\n",
              "      <th>num_videos</th>\n",
              "      <th>...</th>\n",
              "      <th>min_positive_polarity</th>\n",
              "      <th>max_positive_polarity</th>\n",
              "      <th>avg_negative_polarity</th>\n",
              "      <th>min_negative_polarity</th>\n",
              "      <th>max_negative_polarity</th>\n",
              "      <th>title_subjectivity</th>\n",
              "      <th>title_sentiment_polarity</th>\n",
              "      <th>abs_title_subjectivity</th>\n",
              "      <th>abs_title_sentiment_polarity</th>\n",
              "      <th>shares</th>\n",
              "    </tr>\n",
              "    <tr>\n",
              "      <th>url</th>\n",
              "      <th></th>\n",
              "      <th></th>\n",
              "      <th></th>\n",
              "      <th></th>\n",
              "      <th></th>\n",
              "      <th></th>\n",
              "      <th></th>\n",
              "      <th></th>\n",
              "      <th></th>\n",
              "      <th></th>\n",
              "      <th></th>\n",
              "      <th></th>\n",
              "      <th></th>\n",
              "      <th></th>\n",
              "      <th></th>\n",
              "      <th></th>\n",
              "      <th></th>\n",
              "      <th></th>\n",
              "      <th></th>\n",
              "      <th></th>\n",
              "      <th></th>\n",
              "    </tr>\n",
              "  </thead>\n",
              "  <tbody>\n",
              "    <tr>\n",
              "      <th>http://mashable.com/2013/01/07/amazon-instant-video-browser/</th>\n",
              "      <td>731</td>\n",
              "      <td>12</td>\n",
              "      <td>219</td>\n",
              "      <td>0.663594</td>\n",
              "      <td>1.0</td>\n",
              "      <td>0.815385</td>\n",
              "      <td>4</td>\n",
              "      <td>2</td>\n",
              "      <td>1</td>\n",
              "      <td>0</td>\n",
              "      <td>...</td>\n",
              "      <td>0.100000</td>\n",
              "      <td>0.7</td>\n",
              "      <td>-0.350000</td>\n",
              "      <td>-0.600</td>\n",
              "      <td>-0.200000</td>\n",
              "      <td>0.500000</td>\n",
              "      <td>-0.187500</td>\n",
              "      <td>0.000000</td>\n",
              "      <td>0.187500</td>\n",
              "      <td>593</td>\n",
              "    </tr>\n",
              "    <tr>\n",
              "      <th>http://mashable.com/2013/01/07/ap-samsung-sponsored-tweets/</th>\n",
              "      <td>731</td>\n",
              "      <td>9</td>\n",
              "      <td>255</td>\n",
              "      <td>0.604743</td>\n",
              "      <td>1.0</td>\n",
              "      <td>0.791946</td>\n",
              "      <td>3</td>\n",
              "      <td>1</td>\n",
              "      <td>1</td>\n",
              "      <td>0</td>\n",
              "      <td>...</td>\n",
              "      <td>0.033333</td>\n",
              "      <td>0.7</td>\n",
              "      <td>-0.118750</td>\n",
              "      <td>-0.125</td>\n",
              "      <td>-0.100000</td>\n",
              "      <td>0.000000</td>\n",
              "      <td>0.000000</td>\n",
              "      <td>0.500000</td>\n",
              "      <td>0.000000</td>\n",
              "      <td>711</td>\n",
              "    </tr>\n",
              "    <tr>\n",
              "      <th>http://mashable.com/2013/01/07/apple-40-billion-app-downloads/</th>\n",
              "      <td>731</td>\n",
              "      <td>9</td>\n",
              "      <td>211</td>\n",
              "      <td>0.575130</td>\n",
              "      <td>1.0</td>\n",
              "      <td>0.663866</td>\n",
              "      <td>3</td>\n",
              "      <td>1</td>\n",
              "      <td>1</td>\n",
              "      <td>0</td>\n",
              "      <td>...</td>\n",
              "      <td>0.100000</td>\n",
              "      <td>1.0</td>\n",
              "      <td>-0.466667</td>\n",
              "      <td>-0.800</td>\n",
              "      <td>-0.133333</td>\n",
              "      <td>0.000000</td>\n",
              "      <td>0.000000</td>\n",
              "      <td>0.500000</td>\n",
              "      <td>0.000000</td>\n",
              "      <td>1500</td>\n",
              "    </tr>\n",
              "    <tr>\n",
              "      <th>http://mashable.com/2013/01/07/astronaut-notre-dame-bcs/</th>\n",
              "      <td>731</td>\n",
              "      <td>9</td>\n",
              "      <td>531</td>\n",
              "      <td>0.503788</td>\n",
              "      <td>1.0</td>\n",
              "      <td>0.665635</td>\n",
              "      <td>9</td>\n",
              "      <td>0</td>\n",
              "      <td>1</td>\n",
              "      <td>0</td>\n",
              "      <td>...</td>\n",
              "      <td>0.136364</td>\n",
              "      <td>0.8</td>\n",
              "      <td>-0.369697</td>\n",
              "      <td>-0.600</td>\n",
              "      <td>-0.166667</td>\n",
              "      <td>0.000000</td>\n",
              "      <td>0.000000</td>\n",
              "      <td>0.500000</td>\n",
              "      <td>0.000000</td>\n",
              "      <td>1200</td>\n",
              "    </tr>\n",
              "    <tr>\n",
              "      <th>http://mashable.com/2013/01/07/att-u-verse-apps/</th>\n",
              "      <td>731</td>\n",
              "      <td>13</td>\n",
              "      <td>1072</td>\n",
              "      <td>0.415646</td>\n",
              "      <td>1.0</td>\n",
              "      <td>0.540890</td>\n",
              "      <td>19</td>\n",
              "      <td>19</td>\n",
              "      <td>20</td>\n",
              "      <td>0</td>\n",
              "      <td>...</td>\n",
              "      <td>0.033333</td>\n",
              "      <td>1.0</td>\n",
              "      <td>-0.220192</td>\n",
              "      <td>-0.500</td>\n",
              "      <td>-0.050000</td>\n",
              "      <td>0.454545</td>\n",
              "      <td>0.136364</td>\n",
              "      <td>0.045455</td>\n",
              "      <td>0.136364</td>\n",
              "      <td>505</td>\n",
              "    </tr>\n",
              "  </tbody>\n",
              "</table>\n",
              "<p>5 rows × 60 columns</p>\n",
              "</div>\n",
              "    <div class=\"colab-df-buttons\">\n",
              "\n",
              "  <div class=\"colab-df-container\">\n",
              "    <button class=\"colab-df-convert\" onclick=\"convertToInteractive('df-8e86d47f-5033-49c3-a147-8e464fd830d0')\"\n",
              "            title=\"Convert this dataframe to an interactive table.\"\n",
              "            style=\"display:none;\">\n",
              "\n",
              "  <svg xmlns=\"http://www.w3.org/2000/svg\" height=\"24px\" viewBox=\"0 -960 960 960\">\n",
              "    <path d=\"M120-120v-720h720v720H120Zm60-500h600v-160H180v160Zm220 220h160v-160H400v160Zm0 220h160v-160H400v160ZM180-400h160v-160H180v160Zm440 0h160v-160H620v160ZM180-180h160v-160H180v160Zm440 0h160v-160H620v160Z\"/>\n",
              "  </svg>\n",
              "    </button>\n",
              "\n",
              "  <style>\n",
              "    .colab-df-container {\n",
              "      display:flex;\n",
              "      gap: 12px;\n",
              "    }\n",
              "\n",
              "    .colab-df-convert {\n",
              "      background-color: #E8F0FE;\n",
              "      border: none;\n",
              "      border-radius: 50%;\n",
              "      cursor: pointer;\n",
              "      display: none;\n",
              "      fill: #1967D2;\n",
              "      height: 32px;\n",
              "      padding: 0 0 0 0;\n",
              "      width: 32px;\n",
              "    }\n",
              "\n",
              "    .colab-df-convert:hover {\n",
              "      background-color: #E2EBFA;\n",
              "      box-shadow: 0px 1px 2px rgba(60, 64, 67, 0.3), 0px 1px 3px 1px rgba(60, 64, 67, 0.15);\n",
              "      fill: #174EA6;\n",
              "    }\n",
              "\n",
              "    .colab-df-buttons div {\n",
              "      margin-bottom: 4px;\n",
              "    }\n",
              "\n",
              "    [theme=dark] .colab-df-convert {\n",
              "      background-color: #3B4455;\n",
              "      fill: #D2E3FC;\n",
              "    }\n",
              "\n",
              "    [theme=dark] .colab-df-convert:hover {\n",
              "      background-color: #434B5C;\n",
              "      box-shadow: 0px 1px 3px 1px rgba(0, 0, 0, 0.15);\n",
              "      filter: drop-shadow(0px 1px 2px rgba(0, 0, 0, 0.3));\n",
              "      fill: #FFFFFF;\n",
              "    }\n",
              "  </style>\n",
              "\n",
              "    <script>\n",
              "      const buttonEl =\n",
              "        document.querySelector('#df-8e86d47f-5033-49c3-a147-8e464fd830d0 button.colab-df-convert');\n",
              "      buttonEl.style.display =\n",
              "        google.colab.kernel.accessAllowed ? 'block' : 'none';\n",
              "\n",
              "      async function convertToInteractive(key) {\n",
              "        const element = document.querySelector('#df-8e86d47f-5033-49c3-a147-8e464fd830d0');\n",
              "        const dataTable =\n",
              "          await google.colab.kernel.invokeFunction('convertToInteractive',\n",
              "                                                    [key], {});\n",
              "        if (!dataTable) return;\n",
              "\n",
              "        const docLinkHtml = 'Like what you see? Visit the ' +\n",
              "          '<a target=\"_blank\" href=https://colab.research.google.com/notebooks/data_table.ipynb>data table notebook</a>'\n",
              "          + ' to learn more about interactive tables.';\n",
              "        element.innerHTML = '';\n",
              "        dataTable['output_type'] = 'display_data';\n",
              "        await google.colab.output.renderOutput(dataTable, element);\n",
              "        const docLink = document.createElement('div');\n",
              "        docLink.innerHTML = docLinkHtml;\n",
              "        element.appendChild(docLink);\n",
              "      }\n",
              "    </script>\n",
              "  </div>\n",
              "\n",
              "\n",
              "<div id=\"df-1e766c2e-e377-475a-8422-ca414d4fb341\">\n",
              "  <button class=\"colab-df-quickchart\" onclick=\"quickchart('df-1e766c2e-e377-475a-8422-ca414d4fb341')\"\n",
              "            title=\"Suggest charts\"\n",
              "            style=\"display:none;\">\n",
              "\n",
              "<svg xmlns=\"http://www.w3.org/2000/svg\" height=\"24px\"viewBox=\"0 0 24 24\"\n",
              "     width=\"24px\">\n",
              "    <g>\n",
              "        <path d=\"M19 3H5c-1.1 0-2 .9-2 2v14c0 1.1.9 2 2 2h14c1.1 0 2-.9 2-2V5c0-1.1-.9-2-2-2zM9 17H7v-7h2v7zm4 0h-2V7h2v10zm4 0h-2v-4h2v4z\"/>\n",
              "    </g>\n",
              "</svg>\n",
              "  </button>\n",
              "\n",
              "<style>\n",
              "  .colab-df-quickchart {\n",
              "      --bg-color: #E8F0FE;\n",
              "      --fill-color: #1967D2;\n",
              "      --hover-bg-color: #E2EBFA;\n",
              "      --hover-fill-color: #174EA6;\n",
              "      --disabled-fill-color: #AAA;\n",
              "      --disabled-bg-color: #DDD;\n",
              "  }\n",
              "\n",
              "  [theme=dark] .colab-df-quickchart {\n",
              "      --bg-color: #3B4455;\n",
              "      --fill-color: #D2E3FC;\n",
              "      --hover-bg-color: #434B5C;\n",
              "      --hover-fill-color: #FFFFFF;\n",
              "      --disabled-bg-color: #3B4455;\n",
              "      --disabled-fill-color: #666;\n",
              "  }\n",
              "\n",
              "  .colab-df-quickchart {\n",
              "    background-color: var(--bg-color);\n",
              "    border: none;\n",
              "    border-radius: 50%;\n",
              "    cursor: pointer;\n",
              "    display: none;\n",
              "    fill: var(--fill-color);\n",
              "    height: 32px;\n",
              "    padding: 0;\n",
              "    width: 32px;\n",
              "  }\n",
              "\n",
              "  .colab-df-quickchart:hover {\n",
              "    background-color: var(--hover-bg-color);\n",
              "    box-shadow: 0 1px 2px rgba(60, 64, 67, 0.3), 0 1px 3px 1px rgba(60, 64, 67, 0.15);\n",
              "    fill: var(--button-hover-fill-color);\n",
              "  }\n",
              "\n",
              "  .colab-df-quickchart-complete:disabled,\n",
              "  .colab-df-quickchart-complete:disabled:hover {\n",
              "    background-color: var(--disabled-bg-color);\n",
              "    fill: var(--disabled-fill-color);\n",
              "    box-shadow: none;\n",
              "  }\n",
              "\n",
              "  .colab-df-spinner {\n",
              "    border: 2px solid var(--fill-color);\n",
              "    border-color: transparent;\n",
              "    border-bottom-color: var(--fill-color);\n",
              "    animation:\n",
              "      spin 1s steps(1) infinite;\n",
              "  }\n",
              "\n",
              "  @keyframes spin {\n",
              "    0% {\n",
              "      border-color: transparent;\n",
              "      border-bottom-color: var(--fill-color);\n",
              "      border-left-color: var(--fill-color);\n",
              "    }\n",
              "    20% {\n",
              "      border-color: transparent;\n",
              "      border-left-color: var(--fill-color);\n",
              "      border-top-color: var(--fill-color);\n",
              "    }\n",
              "    30% {\n",
              "      border-color: transparent;\n",
              "      border-left-color: var(--fill-color);\n",
              "      border-top-color: var(--fill-color);\n",
              "      border-right-color: var(--fill-color);\n",
              "    }\n",
              "    40% {\n",
              "      border-color: transparent;\n",
              "      border-right-color: var(--fill-color);\n",
              "      border-top-color: var(--fill-color);\n",
              "    }\n",
              "    60% {\n",
              "      border-color: transparent;\n",
              "      border-right-color: var(--fill-color);\n",
              "    }\n",
              "    80% {\n",
              "      border-color: transparent;\n",
              "      border-right-color: var(--fill-color);\n",
              "      border-bottom-color: var(--fill-color);\n",
              "    }\n",
              "    90% {\n",
              "      border-color: transparent;\n",
              "      border-bottom-color: var(--fill-color);\n",
              "    }\n",
              "  }\n",
              "</style>\n",
              "\n",
              "  <script>\n",
              "    async function quickchart(key) {\n",
              "      const quickchartButtonEl =\n",
              "        document.querySelector('#' + key + ' button');\n",
              "      quickchartButtonEl.disabled = true;  // To prevent multiple clicks.\n",
              "      quickchartButtonEl.classList.add('colab-df-spinner');\n",
              "      try {\n",
              "        const charts = await google.colab.kernel.invokeFunction(\n",
              "            'suggestCharts', [key], {});\n",
              "      } catch (error) {\n",
              "        console.error('Error during call to suggestCharts:', error);\n",
              "      }\n",
              "      quickchartButtonEl.classList.remove('colab-df-spinner');\n",
              "      quickchartButtonEl.classList.add('colab-df-quickchart-complete');\n",
              "    }\n",
              "    (() => {\n",
              "      let quickchartButtonEl =\n",
              "        document.querySelector('#df-1e766c2e-e377-475a-8422-ca414d4fb341 button');\n",
              "      quickchartButtonEl.style.display =\n",
              "        google.colab.kernel.accessAllowed ? 'block' : 'none';\n",
              "    })();\n",
              "  </script>\n",
              "</div>\n",
              "    </div>\n",
              "  </div>\n"
            ]
          },
          "metadata": {},
          "execution_count": 74
        }
      ],
      "source": [
        "df.head()"
      ]
    },
    {
      "cell_type": "code",
      "execution_count": null,
      "metadata": {
        "colab": {
          "base_uri": "https://localhost:8080/"
        },
        "id": "SXE9K3N9QOxy",
        "outputId": "6c8b6381-957d-49e7-eca1-84c59b511631"
      },
      "outputs": [
        {
          "output_type": "execute_result",
          "data": {
            "text/plain": [
              "(39644, 60)"
            ]
          },
          "metadata": {},
          "execution_count": 75
        }
      ],
      "source": [
        "df.shape"
      ]
    },
    {
      "cell_type": "code",
      "execution_count": null,
      "metadata": {
        "colab": {
          "base_uri": "https://localhost:8080/",
          "height": 349
        },
        "id": "YxaQVhOaQQvS",
        "outputId": "d4c40ef3-6459-4501-d6c4-7ba7f3ca08f7"
      },
      "outputs": [
        {
          "output_type": "execute_result",
          "data": {
            "text/plain": [
              "          timedelta  n_tokens_title  n_tokens_content  n_unique_tokens  \\\n",
              "count  39644.000000    39644.000000      39644.000000     39644.000000   \n",
              "mean     354.530471       10.398749        546.514731         0.548216   \n",
              "std      214.163767        2.114037        471.107508         3.520708   \n",
              "min        8.000000        2.000000          0.000000         0.000000   \n",
              "25%      164.000000        9.000000        246.000000         0.470870   \n",
              "50%      339.000000       10.000000        409.000000         0.539226   \n",
              "75%      542.000000       12.000000        716.000000         0.608696   \n",
              "max      731.000000       23.000000       8474.000000       701.000000   \n",
              "\n",
              "       n_non_stop_words  n_non_stop_unique_tokens     num_hrefs  \\\n",
              "count      39644.000000              39644.000000  39644.000000   \n",
              "mean           0.996469                  0.689175     10.883690   \n",
              "std            5.231231                  3.264816     11.332017   \n",
              "min            0.000000                  0.000000      0.000000   \n",
              "25%            1.000000                  0.625739      4.000000   \n",
              "50%            1.000000                  0.690476      8.000000   \n",
              "75%            1.000000                  0.754630     14.000000   \n",
              "max         1042.000000                650.000000    304.000000   \n",
              "\n",
              "       num_self_hrefs      num_imgs    num_videos  ...  min_positive_polarity  \\\n",
              "count    39644.000000  39644.000000  39644.000000  ...           39644.000000   \n",
              "mean         3.293638      4.544143      1.249874  ...               0.095446   \n",
              "std          3.855141      8.309434      4.107855  ...               0.071315   \n",
              "min          0.000000      0.000000      0.000000  ...               0.000000   \n",
              "25%          1.000000      1.000000      0.000000  ...               0.050000   \n",
              "50%          3.000000      1.000000      0.000000  ...               0.100000   \n",
              "75%          4.000000      4.000000      1.000000  ...               0.100000   \n",
              "max        116.000000    128.000000     91.000000  ...               1.000000   \n",
              "\n",
              "       max_positive_polarity  avg_negative_polarity  min_negative_polarity  \\\n",
              "count           39644.000000           39644.000000           39644.000000   \n",
              "mean                0.756728              -0.259524              -0.521944   \n",
              "std                 0.247786               0.127726               0.290290   \n",
              "min                 0.000000              -1.000000              -1.000000   \n",
              "25%                 0.600000              -0.328383              -0.700000   \n",
              "50%                 0.800000              -0.253333              -0.500000   \n",
              "75%                 1.000000              -0.186905              -0.300000   \n",
              "max                 1.000000               0.000000               0.000000   \n",
              "\n",
              "       max_negative_polarity  title_subjectivity  title_sentiment_polarity  \\\n",
              "count           39644.000000        39644.000000              39644.000000   \n",
              "mean               -0.107500            0.282353                  0.071425   \n",
              "std                 0.095373            0.324247                  0.265450   \n",
              "min                -1.000000            0.000000                 -1.000000   \n",
              "25%                -0.125000            0.000000                  0.000000   \n",
              "50%                -0.100000            0.150000                  0.000000   \n",
              "75%                -0.050000            0.500000                  0.150000   \n",
              "max                 0.000000            1.000000                  1.000000   \n",
              "\n",
              "       abs_title_subjectivity  abs_title_sentiment_polarity         shares  \n",
              "count            39644.000000                  39644.000000   39644.000000  \n",
              "mean                 0.341843                      0.156064    3395.380184  \n",
              "std                  0.188791                      0.226294   11626.950749  \n",
              "min                  0.000000                      0.000000       1.000000  \n",
              "25%                  0.166667                      0.000000     946.000000  \n",
              "50%                  0.500000                      0.000000    1400.000000  \n",
              "75%                  0.500000                      0.250000    2800.000000  \n",
              "max                  0.500000                      1.000000  843300.000000  \n",
              "\n",
              "[8 rows x 60 columns]"
            ],
            "text/html": [
              "\n",
              "  <div id=\"df-a227de6e-7753-4058-a111-9a1d91a61b81\" class=\"colab-df-container\">\n",
              "    <div>\n",
              "<style scoped>\n",
              "    .dataframe tbody tr th:only-of-type {\n",
              "        vertical-align: middle;\n",
              "    }\n",
              "\n",
              "    .dataframe tbody tr th {\n",
              "        vertical-align: top;\n",
              "    }\n",
              "\n",
              "    .dataframe thead th {\n",
              "        text-align: right;\n",
              "    }\n",
              "</style>\n",
              "<table border=\"1\" class=\"dataframe\">\n",
              "  <thead>\n",
              "    <tr style=\"text-align: right;\">\n",
              "      <th></th>\n",
              "      <th>timedelta</th>\n",
              "      <th>n_tokens_title</th>\n",
              "      <th>n_tokens_content</th>\n",
              "      <th>n_unique_tokens</th>\n",
              "      <th>n_non_stop_words</th>\n",
              "      <th>n_non_stop_unique_tokens</th>\n",
              "      <th>num_hrefs</th>\n",
              "      <th>num_self_hrefs</th>\n",
              "      <th>num_imgs</th>\n",
              "      <th>num_videos</th>\n",
              "      <th>...</th>\n",
              "      <th>min_positive_polarity</th>\n",
              "      <th>max_positive_polarity</th>\n",
              "      <th>avg_negative_polarity</th>\n",
              "      <th>min_negative_polarity</th>\n",
              "      <th>max_negative_polarity</th>\n",
              "      <th>title_subjectivity</th>\n",
              "      <th>title_sentiment_polarity</th>\n",
              "      <th>abs_title_subjectivity</th>\n",
              "      <th>abs_title_sentiment_polarity</th>\n",
              "      <th>shares</th>\n",
              "    </tr>\n",
              "  </thead>\n",
              "  <tbody>\n",
              "    <tr>\n",
              "      <th>count</th>\n",
              "      <td>39644.000000</td>\n",
              "      <td>39644.000000</td>\n",
              "      <td>39644.000000</td>\n",
              "      <td>39644.000000</td>\n",
              "      <td>39644.000000</td>\n",
              "      <td>39644.000000</td>\n",
              "      <td>39644.000000</td>\n",
              "      <td>39644.000000</td>\n",
              "      <td>39644.000000</td>\n",
              "      <td>39644.000000</td>\n",
              "      <td>...</td>\n",
              "      <td>39644.000000</td>\n",
              "      <td>39644.000000</td>\n",
              "      <td>39644.000000</td>\n",
              "      <td>39644.000000</td>\n",
              "      <td>39644.000000</td>\n",
              "      <td>39644.000000</td>\n",
              "      <td>39644.000000</td>\n",
              "      <td>39644.000000</td>\n",
              "      <td>39644.000000</td>\n",
              "      <td>39644.000000</td>\n",
              "    </tr>\n",
              "    <tr>\n",
              "      <th>mean</th>\n",
              "      <td>354.530471</td>\n",
              "      <td>10.398749</td>\n",
              "      <td>546.514731</td>\n",
              "      <td>0.548216</td>\n",
              "      <td>0.996469</td>\n",
              "      <td>0.689175</td>\n",
              "      <td>10.883690</td>\n",
              "      <td>3.293638</td>\n",
              "      <td>4.544143</td>\n",
              "      <td>1.249874</td>\n",
              "      <td>...</td>\n",
              "      <td>0.095446</td>\n",
              "      <td>0.756728</td>\n",
              "      <td>-0.259524</td>\n",
              "      <td>-0.521944</td>\n",
              "      <td>-0.107500</td>\n",
              "      <td>0.282353</td>\n",
              "      <td>0.071425</td>\n",
              "      <td>0.341843</td>\n",
              "      <td>0.156064</td>\n",
              "      <td>3395.380184</td>\n",
              "    </tr>\n",
              "    <tr>\n",
              "      <th>std</th>\n",
              "      <td>214.163767</td>\n",
              "      <td>2.114037</td>\n",
              "      <td>471.107508</td>\n",
              "      <td>3.520708</td>\n",
              "      <td>5.231231</td>\n",
              "      <td>3.264816</td>\n",
              "      <td>11.332017</td>\n",
              "      <td>3.855141</td>\n",
              "      <td>8.309434</td>\n",
              "      <td>4.107855</td>\n",
              "      <td>...</td>\n",
              "      <td>0.071315</td>\n",
              "      <td>0.247786</td>\n",
              "      <td>0.127726</td>\n",
              "      <td>0.290290</td>\n",
              "      <td>0.095373</td>\n",
              "      <td>0.324247</td>\n",
              "      <td>0.265450</td>\n",
              "      <td>0.188791</td>\n",
              "      <td>0.226294</td>\n",
              "      <td>11626.950749</td>\n",
              "    </tr>\n",
              "    <tr>\n",
              "      <th>min</th>\n",
              "      <td>8.000000</td>\n",
              "      <td>2.000000</td>\n",
              "      <td>0.000000</td>\n",
              "      <td>0.000000</td>\n",
              "      <td>0.000000</td>\n",
              "      <td>0.000000</td>\n",
              "      <td>0.000000</td>\n",
              "      <td>0.000000</td>\n",
              "      <td>0.000000</td>\n",
              "      <td>0.000000</td>\n",
              "      <td>...</td>\n",
              "      <td>0.000000</td>\n",
              "      <td>0.000000</td>\n",
              "      <td>-1.000000</td>\n",
              "      <td>-1.000000</td>\n",
              "      <td>-1.000000</td>\n",
              "      <td>0.000000</td>\n",
              "      <td>-1.000000</td>\n",
              "      <td>0.000000</td>\n",
              "      <td>0.000000</td>\n",
              "      <td>1.000000</td>\n",
              "    </tr>\n",
              "    <tr>\n",
              "      <th>25%</th>\n",
              "      <td>164.000000</td>\n",
              "      <td>9.000000</td>\n",
              "      <td>246.000000</td>\n",
              "      <td>0.470870</td>\n",
              "      <td>1.000000</td>\n",
              "      <td>0.625739</td>\n",
              "      <td>4.000000</td>\n",
              "      <td>1.000000</td>\n",
              "      <td>1.000000</td>\n",
              "      <td>0.000000</td>\n",
              "      <td>...</td>\n",
              "      <td>0.050000</td>\n",
              "      <td>0.600000</td>\n",
              "      <td>-0.328383</td>\n",
              "      <td>-0.700000</td>\n",
              "      <td>-0.125000</td>\n",
              "      <td>0.000000</td>\n",
              "      <td>0.000000</td>\n",
              "      <td>0.166667</td>\n",
              "      <td>0.000000</td>\n",
              "      <td>946.000000</td>\n",
              "    </tr>\n",
              "    <tr>\n",
              "      <th>50%</th>\n",
              "      <td>339.000000</td>\n",
              "      <td>10.000000</td>\n",
              "      <td>409.000000</td>\n",
              "      <td>0.539226</td>\n",
              "      <td>1.000000</td>\n",
              "      <td>0.690476</td>\n",
              "      <td>8.000000</td>\n",
              "      <td>3.000000</td>\n",
              "      <td>1.000000</td>\n",
              "      <td>0.000000</td>\n",
              "      <td>...</td>\n",
              "      <td>0.100000</td>\n",
              "      <td>0.800000</td>\n",
              "      <td>-0.253333</td>\n",
              "      <td>-0.500000</td>\n",
              "      <td>-0.100000</td>\n",
              "      <td>0.150000</td>\n",
              "      <td>0.000000</td>\n",
              "      <td>0.500000</td>\n",
              "      <td>0.000000</td>\n",
              "      <td>1400.000000</td>\n",
              "    </tr>\n",
              "    <tr>\n",
              "      <th>75%</th>\n",
              "      <td>542.000000</td>\n",
              "      <td>12.000000</td>\n",
              "      <td>716.000000</td>\n",
              "      <td>0.608696</td>\n",
              "      <td>1.000000</td>\n",
              "      <td>0.754630</td>\n",
              "      <td>14.000000</td>\n",
              "      <td>4.000000</td>\n",
              "      <td>4.000000</td>\n",
              "      <td>1.000000</td>\n",
              "      <td>...</td>\n",
              "      <td>0.100000</td>\n",
              "      <td>1.000000</td>\n",
              "      <td>-0.186905</td>\n",
              "      <td>-0.300000</td>\n",
              "      <td>-0.050000</td>\n",
              "      <td>0.500000</td>\n",
              "      <td>0.150000</td>\n",
              "      <td>0.500000</td>\n",
              "      <td>0.250000</td>\n",
              "      <td>2800.000000</td>\n",
              "    </tr>\n",
              "    <tr>\n",
              "      <th>max</th>\n",
              "      <td>731.000000</td>\n",
              "      <td>23.000000</td>\n",
              "      <td>8474.000000</td>\n",
              "      <td>701.000000</td>\n",
              "      <td>1042.000000</td>\n",
              "      <td>650.000000</td>\n",
              "      <td>304.000000</td>\n",
              "      <td>116.000000</td>\n",
              "      <td>128.000000</td>\n",
              "      <td>91.000000</td>\n",
              "      <td>...</td>\n",
              "      <td>1.000000</td>\n",
              "      <td>1.000000</td>\n",
              "      <td>0.000000</td>\n",
              "      <td>0.000000</td>\n",
              "      <td>0.000000</td>\n",
              "      <td>1.000000</td>\n",
              "      <td>1.000000</td>\n",
              "      <td>0.500000</td>\n",
              "      <td>1.000000</td>\n",
              "      <td>843300.000000</td>\n",
              "    </tr>\n",
              "  </tbody>\n",
              "</table>\n",
              "<p>8 rows × 60 columns</p>\n",
              "</div>\n",
              "    <div class=\"colab-df-buttons\">\n",
              "\n",
              "  <div class=\"colab-df-container\">\n",
              "    <button class=\"colab-df-convert\" onclick=\"convertToInteractive('df-a227de6e-7753-4058-a111-9a1d91a61b81')\"\n",
              "            title=\"Convert this dataframe to an interactive table.\"\n",
              "            style=\"display:none;\">\n",
              "\n",
              "  <svg xmlns=\"http://www.w3.org/2000/svg\" height=\"24px\" viewBox=\"0 -960 960 960\">\n",
              "    <path d=\"M120-120v-720h720v720H120Zm60-500h600v-160H180v160Zm220 220h160v-160H400v160Zm0 220h160v-160H400v160ZM180-400h160v-160H180v160Zm440 0h160v-160H620v160ZM180-180h160v-160H180v160Zm440 0h160v-160H620v160Z\"/>\n",
              "  </svg>\n",
              "    </button>\n",
              "\n",
              "  <style>\n",
              "    .colab-df-container {\n",
              "      display:flex;\n",
              "      gap: 12px;\n",
              "    }\n",
              "\n",
              "    .colab-df-convert {\n",
              "      background-color: #E8F0FE;\n",
              "      border: none;\n",
              "      border-radius: 50%;\n",
              "      cursor: pointer;\n",
              "      display: none;\n",
              "      fill: #1967D2;\n",
              "      height: 32px;\n",
              "      padding: 0 0 0 0;\n",
              "      width: 32px;\n",
              "    }\n",
              "\n",
              "    .colab-df-convert:hover {\n",
              "      background-color: #E2EBFA;\n",
              "      box-shadow: 0px 1px 2px rgba(60, 64, 67, 0.3), 0px 1px 3px 1px rgba(60, 64, 67, 0.15);\n",
              "      fill: #174EA6;\n",
              "    }\n",
              "\n",
              "    .colab-df-buttons div {\n",
              "      margin-bottom: 4px;\n",
              "    }\n",
              "\n",
              "    [theme=dark] .colab-df-convert {\n",
              "      background-color: #3B4455;\n",
              "      fill: #D2E3FC;\n",
              "    }\n",
              "\n",
              "    [theme=dark] .colab-df-convert:hover {\n",
              "      background-color: #434B5C;\n",
              "      box-shadow: 0px 1px 3px 1px rgba(0, 0, 0, 0.15);\n",
              "      filter: drop-shadow(0px 1px 2px rgba(0, 0, 0, 0.3));\n",
              "      fill: #FFFFFF;\n",
              "    }\n",
              "  </style>\n",
              "\n",
              "    <script>\n",
              "      const buttonEl =\n",
              "        document.querySelector('#df-a227de6e-7753-4058-a111-9a1d91a61b81 button.colab-df-convert');\n",
              "      buttonEl.style.display =\n",
              "        google.colab.kernel.accessAllowed ? 'block' : 'none';\n",
              "\n",
              "      async function convertToInteractive(key) {\n",
              "        const element = document.querySelector('#df-a227de6e-7753-4058-a111-9a1d91a61b81');\n",
              "        const dataTable =\n",
              "          await google.colab.kernel.invokeFunction('convertToInteractive',\n",
              "                                                    [key], {});\n",
              "        if (!dataTable) return;\n",
              "\n",
              "        const docLinkHtml = 'Like what you see? Visit the ' +\n",
              "          '<a target=\"_blank\" href=https://colab.research.google.com/notebooks/data_table.ipynb>data table notebook</a>'\n",
              "          + ' to learn more about interactive tables.';\n",
              "        element.innerHTML = '';\n",
              "        dataTable['output_type'] = 'display_data';\n",
              "        await google.colab.output.renderOutput(dataTable, element);\n",
              "        const docLink = document.createElement('div');\n",
              "        docLink.innerHTML = docLinkHtml;\n",
              "        element.appendChild(docLink);\n",
              "      }\n",
              "    </script>\n",
              "  </div>\n",
              "\n",
              "\n",
              "<div id=\"df-dafc5cdc-90f0-4be9-9b88-a234afec0c44\">\n",
              "  <button class=\"colab-df-quickchart\" onclick=\"quickchart('df-dafc5cdc-90f0-4be9-9b88-a234afec0c44')\"\n",
              "            title=\"Suggest charts\"\n",
              "            style=\"display:none;\">\n",
              "\n",
              "<svg xmlns=\"http://www.w3.org/2000/svg\" height=\"24px\"viewBox=\"0 0 24 24\"\n",
              "     width=\"24px\">\n",
              "    <g>\n",
              "        <path d=\"M19 3H5c-1.1 0-2 .9-2 2v14c0 1.1.9 2 2 2h14c1.1 0 2-.9 2-2V5c0-1.1-.9-2-2-2zM9 17H7v-7h2v7zm4 0h-2V7h2v10zm4 0h-2v-4h2v4z\"/>\n",
              "    </g>\n",
              "</svg>\n",
              "  </button>\n",
              "\n",
              "<style>\n",
              "  .colab-df-quickchart {\n",
              "      --bg-color: #E8F0FE;\n",
              "      --fill-color: #1967D2;\n",
              "      --hover-bg-color: #E2EBFA;\n",
              "      --hover-fill-color: #174EA6;\n",
              "      --disabled-fill-color: #AAA;\n",
              "      --disabled-bg-color: #DDD;\n",
              "  }\n",
              "\n",
              "  [theme=dark] .colab-df-quickchart {\n",
              "      --bg-color: #3B4455;\n",
              "      --fill-color: #D2E3FC;\n",
              "      --hover-bg-color: #434B5C;\n",
              "      --hover-fill-color: #FFFFFF;\n",
              "      --disabled-bg-color: #3B4455;\n",
              "      --disabled-fill-color: #666;\n",
              "  }\n",
              "\n",
              "  .colab-df-quickchart {\n",
              "    background-color: var(--bg-color);\n",
              "    border: none;\n",
              "    border-radius: 50%;\n",
              "    cursor: pointer;\n",
              "    display: none;\n",
              "    fill: var(--fill-color);\n",
              "    height: 32px;\n",
              "    padding: 0;\n",
              "    width: 32px;\n",
              "  }\n",
              "\n",
              "  .colab-df-quickchart:hover {\n",
              "    background-color: var(--hover-bg-color);\n",
              "    box-shadow: 0 1px 2px rgba(60, 64, 67, 0.3), 0 1px 3px 1px rgba(60, 64, 67, 0.15);\n",
              "    fill: var(--button-hover-fill-color);\n",
              "  }\n",
              "\n",
              "  .colab-df-quickchart-complete:disabled,\n",
              "  .colab-df-quickchart-complete:disabled:hover {\n",
              "    background-color: var(--disabled-bg-color);\n",
              "    fill: var(--disabled-fill-color);\n",
              "    box-shadow: none;\n",
              "  }\n",
              "\n",
              "  .colab-df-spinner {\n",
              "    border: 2px solid var(--fill-color);\n",
              "    border-color: transparent;\n",
              "    border-bottom-color: var(--fill-color);\n",
              "    animation:\n",
              "      spin 1s steps(1) infinite;\n",
              "  }\n",
              "\n",
              "  @keyframes spin {\n",
              "    0% {\n",
              "      border-color: transparent;\n",
              "      border-bottom-color: var(--fill-color);\n",
              "      border-left-color: var(--fill-color);\n",
              "    }\n",
              "    20% {\n",
              "      border-color: transparent;\n",
              "      border-left-color: var(--fill-color);\n",
              "      border-top-color: var(--fill-color);\n",
              "    }\n",
              "    30% {\n",
              "      border-color: transparent;\n",
              "      border-left-color: var(--fill-color);\n",
              "      border-top-color: var(--fill-color);\n",
              "      border-right-color: var(--fill-color);\n",
              "    }\n",
              "    40% {\n",
              "      border-color: transparent;\n",
              "      border-right-color: var(--fill-color);\n",
              "      border-top-color: var(--fill-color);\n",
              "    }\n",
              "    60% {\n",
              "      border-color: transparent;\n",
              "      border-right-color: var(--fill-color);\n",
              "    }\n",
              "    80% {\n",
              "      border-color: transparent;\n",
              "      border-right-color: var(--fill-color);\n",
              "      border-bottom-color: var(--fill-color);\n",
              "    }\n",
              "    90% {\n",
              "      border-color: transparent;\n",
              "      border-bottom-color: var(--fill-color);\n",
              "    }\n",
              "  }\n",
              "</style>\n",
              "\n",
              "  <script>\n",
              "    async function quickchart(key) {\n",
              "      const quickchartButtonEl =\n",
              "        document.querySelector('#' + key + ' button');\n",
              "      quickchartButtonEl.disabled = true;  // To prevent multiple clicks.\n",
              "      quickchartButtonEl.classList.add('colab-df-spinner');\n",
              "      try {\n",
              "        const charts = await google.colab.kernel.invokeFunction(\n",
              "            'suggestCharts', [key], {});\n",
              "      } catch (error) {\n",
              "        console.error('Error during call to suggestCharts:', error);\n",
              "      }\n",
              "      quickchartButtonEl.classList.remove('colab-df-spinner');\n",
              "      quickchartButtonEl.classList.add('colab-df-quickchart-complete');\n",
              "    }\n",
              "    (() => {\n",
              "      let quickchartButtonEl =\n",
              "        document.querySelector('#df-dafc5cdc-90f0-4be9-9b88-a234afec0c44 button');\n",
              "      quickchartButtonEl.style.display =\n",
              "        google.colab.kernel.accessAllowed ? 'block' : 'none';\n",
              "    })();\n",
              "  </script>\n",
              "</div>\n",
              "    </div>\n",
              "  </div>\n"
            ]
          },
          "metadata": {},
          "execution_count": 76
        }
      ],
      "source": [
        "#understanding the descriptive information about the data\n",
        "df.describe()"
      ]
    },
    {
      "cell_type": "markdown",
      "metadata": {
        "id": "4w2BnJRvQxUZ"
      },
      "source": [
        "#Preparing data for analysis"
      ]
    },
    {
      "cell_type": "code",
      "execution_count": null,
      "metadata": {
        "colab": {
          "base_uri": "https://localhost:8080/"
        },
        "id": "u9dJtOrFQ9ZX",
        "outputId": "f876f7e8-02c1-4f72-a7ed-b11800a29c0f"
      },
      "outputs": [
        {
          "output_type": "stream",
          "name": "stdout",
          "text": [
            "<class 'pandas.core.frame.DataFrame'>\n",
            "Index: 39644 entries, http://mashable.com/2013/01/07/amazon-instant-video-browser/ to http://mashable.com/2014/12/27/youtube-channels-2015/\n",
            "Data columns (total 60 columns):\n",
            " #   Column                         Non-Null Count  Dtype  \n",
            "---  ------                         --------------  -----  \n",
            " 0   timedelta                      39644 non-null  int64  \n",
            " 1   n_tokens_title                 39644 non-null  int64  \n",
            " 2   n_tokens_content               39644 non-null  int64  \n",
            " 3   n_unique_tokens                39644 non-null  float64\n",
            " 4   n_non_stop_words               39644 non-null  float64\n",
            " 5   n_non_stop_unique_tokens       39644 non-null  float64\n",
            " 6   num_hrefs                      39644 non-null  int64  \n",
            " 7   num_self_hrefs                 39644 non-null  int64  \n",
            " 8   num_imgs                       39644 non-null  int64  \n",
            " 9   num_videos                     39644 non-null  int64  \n",
            " 10  average_token_length           39644 non-null  float64\n",
            " 11  num_keywords                   39644 non-null  int64  \n",
            " 12  data_channel_is_lifestyle      39644 non-null  int64  \n",
            " 13  data_channel_is_entertainment  39644 non-null  int64  \n",
            " 14  data_channel_is_bus            39644 non-null  int64  \n",
            " 15  data_channel_is_socmed         39644 non-null  int64  \n",
            " 16  data_channel_is_tech           39644 non-null  int64  \n",
            " 17  data_channel_is_world          39644 non-null  int64  \n",
            " 18  kw_min_min                     39644 non-null  int64  \n",
            " 19  kw_max_min                     39644 non-null  float64\n",
            " 20  kw_avg_min                     39644 non-null  float64\n",
            " 21  kw_min_max                     39644 non-null  int64  \n",
            " 22  kw_max_max                     39644 non-null  int64  \n",
            " 23  kw_avg_max                     39644 non-null  float64\n",
            " 24  kw_min_avg                     39644 non-null  float64\n",
            " 25  kw_max_avg                     39644 non-null  float64\n",
            " 26  kw_avg_avg                     39644 non-null  float64\n",
            " 27  self_reference_min_shares      39644 non-null  float64\n",
            " 28  self_reference_max_shares      39644 non-null  float64\n",
            " 29  self_reference_avg_sharess     39644 non-null  float64\n",
            " 30  weekday_is_monday              39644 non-null  int64  \n",
            " 31  weekday_is_tuesday             39644 non-null  int64  \n",
            " 32  weekday_is_wednesday           39644 non-null  int64  \n",
            " 33  weekday_is_thursday            39644 non-null  int64  \n",
            " 34  weekday_is_friday              39644 non-null  int64  \n",
            " 35  weekday_is_saturday            39644 non-null  int64  \n",
            " 36  weekday_is_sunday              39644 non-null  int64  \n",
            " 37  s_weekend                      39644 non-null  int64  \n",
            " 38  LDA_00                         39644 non-null  float64\n",
            " 39  LDA_01                         39644 non-null  float64\n",
            " 40  LDA_02                         39644 non-null  float64\n",
            " 41  LDA_03                         39644 non-null  float64\n",
            " 42  LDA_04                         39644 non-null  float64\n",
            " 43  global_subjectivity            39644 non-null  float64\n",
            " 44  global_sentiment_polarity      39644 non-null  float64\n",
            " 45  global_rate_positive_words     39644 non-null  float64\n",
            " 46  global_rate_negative_words     39644 non-null  float64\n",
            " 47  rate_positive_words            39644 non-null  float64\n",
            " 48  rate_negative_words            39644 non-null  float64\n",
            " 49  avg_positive_polarity          39644 non-null  float64\n",
            " 50  min_positive_polarity          39644 non-null  float64\n",
            " 51  max_positive_polarity          39644 non-null  float64\n",
            " 52  avg_negative_polarity          39644 non-null  float64\n",
            " 53  min_negative_polarity          39644 non-null  float64\n",
            " 54  max_negative_polarity          39644 non-null  float64\n",
            " 55  title_subjectivity             39644 non-null  float64\n",
            " 56  title_sentiment_polarity       39644 non-null  float64\n",
            " 57  abs_title_subjectivity         39644 non-null  float64\n",
            " 58  abs_title_sentiment_polarity   39644 non-null  float64\n",
            " 59  shares                         39644 non-null  int64  \n",
            "dtypes: float64(34), int64(26)\n",
            "memory usage: 18.5+ MB\n"
          ]
        }
      ],
      "source": [
        "df.info()"
      ]
    },
    {
      "cell_type": "markdown",
      "metadata": {
        "id": "ySLAom0LRGxV"
      },
      "source": [
        "* Almost all of the variables are float data type and the targer variable is of type int\n"
      ]
    },
    {
      "cell_type": "code",
      "execution_count": null,
      "metadata": {
        "colab": {
          "base_uri": "https://localhost:8080/"
        },
        "id": "ljHisUexRRpv",
        "outputId": "9db753e1-c982-4779-94d9-86ecaba34575"
      },
      "outputs": [
        {
          "output_type": "execute_result",
          "data": {
            "text/plain": [
              "timedelta                        0\n",
              "n_tokens_title                   0\n",
              "n_tokens_content                 0\n",
              "n_unique_tokens                  0\n",
              "n_non_stop_words                 0\n",
              "n_non_stop_unique_tokens         0\n",
              "num_hrefs                        0\n",
              "num_self_hrefs                   0\n",
              "num_imgs                         0\n",
              "num_videos                       0\n",
              "average_token_length             0\n",
              "num_keywords                     0\n",
              "data_channel_is_lifestyle        0\n",
              "data_channel_is_entertainment    0\n",
              "data_channel_is_bus              0\n",
              "data_channel_is_socmed           0\n",
              "data_channel_is_tech             0\n",
              "data_channel_is_world            0\n",
              "kw_min_min                       0\n",
              "kw_max_min                       0\n",
              "kw_avg_min                       0\n",
              "kw_min_max                       0\n",
              "kw_max_max                       0\n",
              "kw_avg_max                       0\n",
              "kw_min_avg                       0\n",
              "kw_max_avg                       0\n",
              "kw_avg_avg                       0\n",
              "self_reference_min_shares        0\n",
              "self_reference_max_shares        0\n",
              "self_reference_avg_sharess       0\n",
              "weekday_is_monday                0\n",
              "weekday_is_tuesday               0\n",
              "weekday_is_wednesday             0\n",
              "weekday_is_thursday              0\n",
              "weekday_is_friday                0\n",
              "weekday_is_saturday              0\n",
              "weekday_is_sunday                0\n",
              "s_weekend                        0\n",
              "LDA_00                           0\n",
              "LDA_01                           0\n",
              "LDA_02                           0\n",
              "LDA_03                           0\n",
              "LDA_04                           0\n",
              "global_subjectivity              0\n",
              "global_sentiment_polarity        0\n",
              "global_rate_positive_words       0\n",
              "global_rate_negative_words       0\n",
              "rate_positive_words              0\n",
              "rate_negative_words              0\n",
              "avg_positive_polarity            0\n",
              "min_positive_polarity            0\n",
              "max_positive_polarity            0\n",
              "avg_negative_polarity            0\n",
              "min_negative_polarity            0\n",
              "max_negative_polarity            0\n",
              "title_subjectivity               0\n",
              "title_sentiment_polarity         0\n",
              "abs_title_subjectivity           0\n",
              "abs_title_sentiment_polarity     0\n",
              "shares                           0\n",
              "dtype: int64"
            ]
          },
          "metadata": {},
          "execution_count": 78
        }
      ],
      "source": [
        "# Check for any null values\n",
        "df.isnull().sum()"
      ]
    },
    {
      "cell_type": "markdown",
      "metadata": {
        "id": "XhflXLOeReJ-"
      },
      "source": [
        "* No NULL values!!!"
      ]
    },
    {
      "cell_type": "code",
      "source": [
        "import pandas as pd\n",
        "\n",
        "# Define a function that combines features into a single category\n",
        "def combine_features(row):\n",
        "    # Implement your logic here\n",
        "    # For example, combining the features by some criteria:\n",
        "    if row['data_channel_is_lifestyle'] == 1 :\n",
        "        return 'Lifestyle'\n",
        "    elif row['data_channel_is_entertainment'] == 1:\n",
        "        return 'Entertainment'\n",
        "    elif row['data_channel_is_bus'] == 1:\n",
        "        return 'Business'\n",
        "    elif row['data_channel_is_socmed'] == 1:\n",
        "        return 'Social Media'\n",
        "    elif row['data_channel_is_tech'] == 1:\n",
        "        return 'Tech'\n",
        "    elif row['data_channel_is_world'] == 1:\n",
        "        return 'World'\n",
        "\n",
        "# Apply the function across the rows and create a new categorical feature\n",
        "df['data_channel'] = df.apply(combine_features, axis=1)\n"
      ],
      "metadata": {
        "id": "tbKP78tgmpqB"
      },
      "execution_count": 124,
      "outputs": []
    },
    {
      "cell_type": "code",
      "source": [
        "import pandas as pd\n",
        "\n",
        "# Define a function that combines features into a single category\n",
        "def combine_features(row):\n",
        "    # Implement your logic here\n",
        "    # For example, combining the features by some criteria:\n",
        "    if row['weekday_is_monday'] == 1 :\n",
        "        return 'Monday'\n",
        "    elif row['weekday_is_tuesday'] == 1:\n",
        "        return 'Tuesday'\n",
        "    elif row['weekday_is_wednesday'] == 1:\n",
        "        return 'Wednesday'\n",
        "    elif row['weekday_is_thursday'] == 1:\n",
        "        return 'Thursday'\n",
        "    elif row['weekday_is_friday'] == 1:\n",
        "        return 'Friday'\n",
        "    elif row['weekday_is_saturday'] == 1:\n",
        "        return 'Saturday'\n",
        "    elif row['weekday_is_sunday'] == 1:\n",
        "        return 'Sunday'\n",
        "\n",
        "# Apply the function across the rows and create a new categorical feature\n",
        "df['day_published'] = df.apply(combine_features, axis=1)\n"
      ],
      "metadata": {
        "id": "4vvwFlO4kyh4"
      },
      "execution_count": 113,
      "outputs": []
    },
    {
      "cell_type": "code",
      "execution_count": 114,
      "metadata": {
        "colab": {
          "base_uri": "https://localhost:8080/"
        },
        "id": "yxYU_D5RRhL_",
        "outputId": "0e7cfddf-2bbc-4704-dfb0-a5b9fa488aa1"
      },
      "outputs": [
        {
          "output_type": "execute_result",
          "data": {
            "text/plain": [
              "url\n",
              "http://mashable.com/2013/01/07/amazon-instant-video-browser/                             False\n",
              "http://mashable.com/2013/01/07/ap-samsung-sponsored-tweets/                              False\n",
              "http://mashable.com/2013/01/07/apple-40-billion-app-downloads/                           False\n",
              "http://mashable.com/2013/01/07/astronaut-notre-dame-bcs/                                 False\n",
              "http://mashable.com/2013/01/07/att-u-verse-apps/                                         False\n",
              "                                                                                         ...  \n",
              "http://mashable.com/2014/12/27/samsung-app-autism/                                       False\n",
              "http://mashable.com/2014/12/27/seth-rogen-james-franco-will-live-tweet-the-interview/    False\n",
              "http://mashable.com/2014/12/27/son-pays-off-mortgage/                                    False\n",
              "http://mashable.com/2014/12/27/ukraine-blasts/                                           False\n",
              "http://mashable.com/2014/12/27/youtube-channels-2015/                                    False\n",
              "Length: 39644, dtype: bool"
            ]
          },
          "metadata": {},
          "execution_count": 114
        }
      ],
      "source": [
        "# Checking for duplicates in our dataframe\n",
        "#Check for dulicate rows except the first occurrence\n",
        "df.duplicated()"
      ]
    },
    {
      "cell_type": "code",
      "source": [
        "df['data_channel']"
      ],
      "metadata": {
        "colab": {
          "base_uri": "https://localhost:8080/"
        },
        "id": "Cn70ReGTmUhs",
        "outputId": "52d1260f-96e2-47a2-fa65-41a80d49220b"
      },
      "execution_count": 125,
      "outputs": [
        {
          "output_type": "execute_result",
          "data": {
            "text/plain": [
              "url\n",
              "http://mashable.com/2013/01/07/amazon-instant-video-browser/                             Entertainment\n",
              "http://mashable.com/2013/01/07/ap-samsung-sponsored-tweets/                                   Business\n",
              "http://mashable.com/2013/01/07/apple-40-billion-app-downloads/                                Business\n",
              "http://mashable.com/2013/01/07/astronaut-notre-dame-bcs/                                 Entertainment\n",
              "http://mashable.com/2013/01/07/att-u-verse-apps/                                                  Tech\n",
              "                                                                                             ...      \n",
              "http://mashable.com/2014/12/27/samsung-app-autism/                                                Tech\n",
              "http://mashable.com/2014/12/27/seth-rogen-james-franco-will-live-tweet-the-interview/     Social Media\n",
              "http://mashable.com/2014/12/27/son-pays-off-mortgage/                                             None\n",
              "http://mashable.com/2014/12/27/ukraine-blasts/                                                   World\n",
              "http://mashable.com/2014/12/27/youtube-channels-2015/                                    Entertainment\n",
              "Name: data_channel, Length: 39644, dtype: object"
            ]
          },
          "metadata": {},
          "execution_count": 125
        }
      ]
    },
    {
      "cell_type": "code",
      "source": [
        "df['day_published']"
      ],
      "metadata": {
        "colab": {
          "base_uri": "https://localhost:8080/"
        },
        "id": "rvbrS99JqU3w",
        "outputId": "17f51a3f-1d51-47bd-9e5e-29da79ccf4d4"
      },
      "execution_count": 126,
      "outputs": [
        {
          "output_type": "execute_result",
          "data": {
            "text/plain": [
              "url\n",
              "http://mashable.com/2013/01/07/amazon-instant-video-browser/                                Monday\n",
              "http://mashable.com/2013/01/07/ap-samsung-sponsored-tweets/                                 Monday\n",
              "http://mashable.com/2013/01/07/apple-40-billion-app-downloads/                              Monday\n",
              "http://mashable.com/2013/01/07/astronaut-notre-dame-bcs/                                    Monday\n",
              "http://mashable.com/2013/01/07/att-u-verse-apps/                                            Monday\n",
              "                                                                                           ...    \n",
              "http://mashable.com/2014/12/27/samsung-app-autism/                                       Wednesday\n",
              "http://mashable.com/2014/12/27/seth-rogen-james-franco-will-live-tweet-the-interview/    Wednesday\n",
              "http://mashable.com/2014/12/27/son-pays-off-mortgage/                                    Wednesday\n",
              "http://mashable.com/2014/12/27/ukraine-blasts/                                           Wednesday\n",
              "http://mashable.com/2014/12/27/youtube-channels-2015/                                    Wednesday\n",
              "Name: day_published, Length: 39644, dtype: object"
            ]
          },
          "metadata": {},
          "execution_count": 126
        }
      ]
    },
    {
      "cell_type": "code",
      "execution_count": null,
      "metadata": {
        "colab": {
          "base_uri": "https://localhost:8080/",
          "height": 472
        },
        "id": "-sjVwxgkRrH5",
        "outputId": "e44d5fbd-a236-4246-9fe3-dc8c1c293e80"
      },
      "outputs": [
        {
          "output_type": "display_data",
          "data": {
            "text/plain": [
              "<Figure size 640x480 with 1 Axes>"
            ],
            "image/png": "[encoded data removed]"
          },
          "metadata": {}
        }
      ],
      "source": [
        "sns.histplot(df['shares'], bins=10, kde=True, color='skyblue')  # You can adjust the number of bins as needed\n",
        "plt.xlabel('Float Values')\n",
        "plt.ylabel('Frequency')\n",
        "plt.title('Histogram of Float Values')\n",
        "plt.show()"
      ]
    },
    {
      "cell_type": "code",
      "execution_count": null,
      "metadata": {
        "colab": {
          "base_uri": "https://localhost:8080/"
        },
        "id": "aC0VTh8jVz8T",
        "outputId": "9a5bc04e-b318-412b-b393-a69edce76484"
      },
      "outputs": [
        {
          "output_type": "execute_result",
          "data": {
            "text/plain": [
              "count     39644.000000\n",
              "mean       3395.380184\n",
              "std       11626.950749\n",
              "min           1.000000\n",
              "25%         946.000000\n",
              "50%        1400.000000\n",
              "75%        2800.000000\n",
              "max      843300.000000\n",
              "Name: shares, dtype: float64"
            ]
          },
          "metadata": {},
          "execution_count": 81
        }
      ],
      "source": [
        "# For numerical variables\n",
        "df['shares'].describe()"
      ]
    },
    {
      "cell_type": "code",
      "execution_count": null,
      "metadata": {
        "colab": {
          "base_uri": "https://localhost:8080/"
        },
        "id": "5X4xGg0_ZhKQ",
        "outputId": "a10a922b-443c-48da-c9db-c31d490dc0cc"
      },
      "outputs": [
        {
          "output_type": "execute_result",
          "data": {
            "text/plain": [
              "url\n",
              "http://mashable.com/2013/07/03/low-cost-iphone/                        843300\n",
              "http://mashable.com/2013/04/15/dove-ad-beauty-sketches/                690400\n",
              "http://mashable.com/2014/04/09/first-100-gilt-soundcloud-stitchfix/    663600\n",
              "http://mashable.com/2013/11/18/kanye-west-harvard-lecture/             652900\n",
              "http://mashable.com/2013/03/02/wealth-inequality/                      617900\n",
              "                                                                        ...  \n",
              "http://mashable.com/2014/09/07/things-you-can-buy-for-a-dollar/         77200\n",
              "http://mashable.com/2014/03/31/google-plus-twitter-engagement/          75600\n",
              "http://mashable.com/2014/12/11/kerry-peru-climate-summit/               75500\n",
              "http://mashable.com/2014/01/23/ceres-dwarf-planet-water/                74300\n",
              "http://mashable.com/2013/09/11/tina-brown-leave-daily-beast/            74100\n",
              "Name: shares, Length: 100, dtype: int64"
            ]
          },
          "metadata": {},
          "execution_count": 82
        }
      ],
      "source": [
        "df['shares'].nlargest(100)"
      ]
    },
    {
      "cell_type": "code",
      "execution_count": null,
      "metadata": {
        "colab": {
          "base_uri": "https://localhost:8080/",
          "height": 430
        },
        "id": "Iq9vu-jGb90F",
        "outputId": "e769884b-14c9-4582-aafa-221ea971400d"
      },
      "outputs": [
        {
          "output_type": "display_data",
          "data": {
            "text/plain": [
              "<Figure size 640x480 with 1 Axes>"
            ],
            "image/png": "[encoded data removed]"
          },
          "metadata": {}
        }
      ],
      "source": [
        "# Box plot for outlier detection\n",
        "plt.boxplot(df['shares'])\n",
        "plt.show()"
      ]
    },
    {
      "cell_type": "code",
      "execution_count": null,
      "metadata": {
        "colab": {
          "base_uri": "https://localhost:8080/",
          "height": 472
        },
        "id": "cicUJ2RJaBIV",
        "outputId": "a5244d0f-22ca-4233-9325-0e70786efefd"
      },
      "outputs": [
        {
          "output_type": "display_data",
          "data": {
            "text/plain": [
              "<Figure size 640x480 with 1 Axes>"
            ],
            "image/png": "[encoded data removed]"
          },
          "metadata": {}
        }
      ],
      "source": [
        "sns.histplot(df['shares'].nlargest(100), bins=10, kde=True, color='skyblue')  # You can adjust the number of bins as needed\n",
        "plt.xlabel('Float Values')\n",
        "plt.ylabel('Frequency')\n",
        "plt.title('Histogram of Float Values')\n",
        "plt.show()"
      ]
    },
    {
      "cell_type": "code",
      "execution_count": null,
      "metadata": {
        "colab": {
          "base_uri": "https://localhost:8080/"
        },
        "id": "YhQ40qWCZ3JV",
        "outputId": "deefd252-acbc-46a3-8395-cfc8bdfa19f6"
      },
      "outputs": [
        {
          "output_type": "execute_result",
          "data": {
            "text/plain": [
              "url\n",
              "http://mashable.com/2013/12/09/wand-remote-control/                                      1\n",
              "http://mashable.com/2013/04/01/troll-appreciation-day-tickets-2/                         4\n",
              "http://mashable.com/2014/12/10/mad-max-trailer/                                          5\n",
              "http://mashable.com/2013/07/11/nokia-lumia-1020/                                         8\n",
              "http://mashable.com/2014/01/16/titanic-replica-theme-park/                              22\n",
              "                                                                                      ... \n",
              "http://mashable.com/2014/10/22/debris-donetsk/                                         111\n",
              "http://mashable.com/2013/05/22/repair-the-rockaways/                                   112\n",
              "http://mashable.com/2014/10/20/bluesmart-indiegogo-funded/                             112\n",
              "http://mashable.com/2013/06/03/frank-lautenberg-farewell/                              114\n",
              "http://mashable.com/2014/09/05/the-terror-organization-defeating-the-islamic-state/    115\n",
              "Name: shares, Length: 100, dtype: int64"
            ]
          },
          "metadata": {},
          "execution_count": 86
        }
      ],
      "source": [
        "df['shares'].nsmallest(100)"
      ]
    },
    {
      "cell_type": "code",
      "execution_count": null,
      "metadata": {
        "colab": {
          "base_uri": "https://localhost:8080/",
          "height": 472
        },
        "id": "X6JhQ27baWDK",
        "outputId": "144e8142-a623-47a6-f55f-0289e82eea3a"
      },
      "outputs": [
        {
          "output_type": "display_data",
          "data": {
            "text/plain": [
              "<Figure size 640x480 with 1 Axes>"
            ],
            "image/png": "[encoded data removed]"
          },
          "metadata": {}
        }
      ],
      "source": [
        "sns.histplot(df['shares'].nsmallest(100), bins=10, kde=True, color='skyblue')  # You can adjust the number of bins as needed\n",
        "plt.xlabel('Float Values')\n",
        "plt.ylabel('Frequency')\n",
        "plt.title('Histogram of Float Values')\n",
        "plt.show()"
      ]
    },
    {
      "cell_type": "code",
      "execution_count": null,
      "metadata": {
        "id": "ZdCXlLoNagSY"
      },
      "outputs": [],
      "source": [
        "# Correlation matrix\n",
        "correlation_matrix = df.corr()\n",
        "print(correlation_matrix)\n",
        "# Heatmap for correlation matrix\n",
        "sns.heatmap(correlation_matrix, annot=True, cmap='coolwarm')\n",
        "plt.show()\n",
        "\n"
      ]
    },
    {
      "cell_type": "code",
      "execution_count": null,
      "metadata": {
        "id": "HP0TRfQnfdBM"
      },
      "outputs": [],
      "source": [
        "df[df.columns[1:]].corr()['shares'][:]\n"
      ]
    },
    {
      "cell_type": "markdown",
      "metadata": {
        "id": "dmOOJ_yom7OZ"
      },
      "source": [
        "* No signs of Strong Correlation to the target variable \"shares'"
      ]
    },
    {
      "cell_type": "code",
      "execution_count": null,
      "metadata": {
        "id": "3-43Fwddm_Lh"
      },
      "outputs": [],
      "source": [
        "# Create a scatter plot\n",
        "\n",
        "plt.scatter(df['global_subjectivity'], df['shares'], color='blue', alpha=0.7)\n",
        "plt.xlabel('Continuous Variable')\n",
        "plt.ylabel('Target Variable')\n",
        "plt.title('Relationship between global_subjectivity and shares')\n",
        "plt.grid(True)\n",
        "plt.show()"
      ]
    },
    {
      "cell_type": "code",
      "execution_count": null,
      "metadata": {
        "id": "nrj-6hxXzM2f"
      },
      "outputs": [],
      "source": [
        "# Create a scatter plot\n",
        "\n",
        "plt.scatter(df['num_keywords'], df['shares'], color='blue', alpha=0.7)\n",
        "plt.xlabel('Continuous Variable')\n",
        "plt.ylabel('Target Variable')\n",
        "plt.title('Relationship between global_subjectivity and shares')\n",
        "plt.grid(True)\n",
        "plt.show()"
      ]
    },
    {
      "cell_type": "code",
      "source": [
        "plt.bar(df['day_published'], df['shares'])\n",
        "\n",
        "# Add titles and labels\n",
        "plt.title('Bar Graph Example')\n",
        "plt.xlabel('data channel')\n",
        "plt.ylabel('# of shares')\n",
        "\n",
        "# Show the plot\n",
        "plt.show()"
      ],
      "metadata": {
        "colab": {
          "base_uri": "https://localhost:8080/",
          "height": 472
        },
        "id": "eI-fmocKneTF",
        "outputId": "c1dc3a25-d6a1-4ffe-d8fe-4ab747858d71"
      },
      "execution_count": 122,
      "outputs": [
        {
          "output_type": "display_data",
          "data": {
            "text/plain": [
              "<Figure size 640x480 with 1 Axes>"
            ],
            "image/png": "[encoded data removed]"
          },
          "metadata": {}
        }
      ]
    },
    {
      "cell_type": "code",
      "source": [
        "sns.histplot(binwidth=0.5, x=\"data_channel\", data=df, stat=\"percent\", multiple=\"stack\")\n"
      ],
      "metadata": {
        "colab": {
          "base_uri": "https://localhost:8080/",
          "height": 467
        },
        "id": "UhQKdFIQos9C",
        "outputId": "745d7ade-31ae-46a8-fc92-0f555d7268e5"
      },
      "execution_count": 128,
      "outputs": [
        {
          "output_type": "execute_result",
          "data": {
            "text/plain": [
              "<Axes: xlabel='data_channel', ylabel='Percent'>"
            ]
          },
          "metadata": {},
          "execution_count": 128
        },
        {
          "output_type": "display_data",
          "data": {
            "text/plain": [
              "<Figure size 640x480 with 1 Axes>"
            ],
            "image/png": "[encoded data removed]"
          },
          "metadata": {}
        }
      ]
    },
    {
      "cell_type": "code",
      "source": [
        "sns.histplot(binwidth=0.5, x=\"day_published\", hue=\"data_channel\", data=df, stat=\"percent\", multiple=\"stack\")\n"
      ],
      "metadata": {
        "colab": {
          "base_uri": "https://localhost:8080/",
          "height": 467
        },
        "id": "cWMqIMyUq9eL",
        "outputId": "57bb76ac-a584-4ee0-f3da-e9a6f2d39f54"
      },
      "execution_count": 129,
      "outputs": [
        {
          "output_type": "execute_result",
          "data": {
            "text/plain": [
              "<Axes: xlabel='day_published', ylabel='Percent'>"
            ]
          },
          "metadata": {},
          "execution_count": 129
        },
        {
          "output_type": "display_data",
          "data": {
            "text/plain": [
              "<Figure size 640x480 with 1 Axes>"
            ],
            "image/png": "[encoded data removed]"
          },
          "metadata": {}
        }
      ]
    },
    {
      "cell_type": "code",
      "execution_count": null,
      "metadata": {
        "id": "S9oRrVCymkE_"
      },
      "outputs": [],
      "source": [
        "from sklearn.model_selection import train_test_split\n",
        "from sklearn.preprocessing import StandardScaler\n",
        "from sklearn.metrics import mean_squared_log_error\n",
        "from sklearn.linear_model import LinearRegression, Ridge, Lasso\n",
        "from sklearn.ensemble import RandomForestRegressor, GradientBoostingRegressor\n",
        "import numpy as np"
      ]
    },
    {
      "cell_type": "code",
      "execution_count": null,
      "metadata": {
        "id": "hvug3F8xmmQk"
      },
      "outputs": [],
      "source": [
        "# Check for missing values\n",
        "missing_values = df.isnull().sum()"
      ]
    },
    {
      "cell_type": "code",
      "execution_count": null,
      "metadata": {
        "id": "FY2vkjYymrhS"
      },
      "outputs": [],
      "source": [
        "# For simplicity, let's consider all the columns as features except for the target 'shares' for now.\n",
        "X = df.drop(columns=['shares'])\n",
        "y = df['shares']"
      ]
    },
    {
      "cell_type": "code",
      "execution_count": null,
      "metadata": {
        "id": "gbQ6Ki2_mwAR"
      },
      "outputs": [],
      "source": [
        "# Log-transform the target variable to reduce the effect of very large share counts\n",
        "y_log = np.log1p(y)\n",
        "\n",
        "# Split the data into training and test sets\n",
        "X_train, X_test, y_train_log, y_test_log = train_test_split(X, y_log, test_size=0.2, random_state=42)"
      ]
    },
    {
      "cell_type": "code",
      "execution_count": null,
      "metadata": {
        "id": "Jvdf6SJsmzZb"
      },
      "outputs": [],
      "source": [
        "# Standardize the features\n",
        "scaler = StandardScaler()\n",
        "X_train_scaled = scaler.fit_transform(X_train)\n",
        "X_test_scaled = scaler.transform(X_test)\n"
      ]
    },
    {
      "cell_type": "code",
      "execution_count": null,
      "metadata": {
        "id": "T3WRwtYGm2-W"
      },
      "outputs": [],
      "source": [
        "\n",
        "# Initialize models\n",
        "models = {\n",
        "    'LinearRegression': LinearRegression(),\n",
        "    'Ridge': Ridge(),\n",
        "    'Lasso': Lasso(),\n",
        "    'RandomForestRegressor': RandomForestRegressor(),\n",
        "    'GradientBoostingRegressor': GradientBoostingRegressor()\n",
        "}"
      ]
    },
    {
      "cell_type": "code",
      "execution_count": null,
      "metadata": {
        "id": "2zL1qXXxm5_k"
      },
      "outputs": [],
      "source": [
        "# Function to train and evaluate models\n",
        "def train_evaluate(models, X_train, y_train, X_test, y_test):\n",
        "    rmsle_scores = {}\n",
        "    for name, model in models.items():\n",
        "        # Train the model\n",
        "        model.fit(X_train, y_train)\n",
        "        # Predict on test set\n",
        "        y_pred_log = model.predict(X_test)\n",
        "        # Calculate RMSLE\n",
        "        rmsle_score = np.sqrt(mean_squared_log_error(np.expm1(y_test), np.expm1(y_pred_log)))\n",
        "        rmsle_scores[name] = rmsle_score\n",
        "    return rmsle_scores\n"
      ]
    },
    {
      "cell_type": "code",
      "execution_count": null,
      "metadata": {
        "colab": {
          "base_uri": "https://localhost:8080/"
        },
        "id": "FuHb50EIbcdf",
        "outputId": "e4933a93-bc24-4b9a-b0d6-a630c632becc"
      },
      "outputs": [
        {
          "output_type": "execute_result",
          "data": {
            "text/plain": [
              "{'LinearRegression': 0.8650581765623193,\n",
              " 'Ridge': 0.8649292161761823,\n",
              " 'Lasso': 0.9259058520210393,\n",
              " 'RandomForestRegressor': 0.8469382826063837,\n",
              " 'GradientBoostingRegressor': 0.842322046910214}"
            ]
          },
          "metadata": {},
          "execution_count": 99
        }
      ],
      "source": [
        "# Train and evaluate models\n",
        "rmsle_scores = train_evaluate(models, X_train_scaled, y_train_log, X_test_scaled, y_test_log)\n",
        "rmsle_scores\n"
      ]
    },
    {
      "cell_type": "markdown",
      "source": [
        "## Improving RMSLE scores"
      ],
      "metadata": {
        "id": "cS49R6Jgm8Ps"
      }
    },
    {
      "cell_type": "markdown",
      "metadata": {
        "id": "EQQ4sOWpSk5o"
      },
      "source": [
        "#Implement Feature Engineering\n",
        "* Eliminate Noise in the data\n",
        "* Only include data with correlation\n"
      ]
    },
    {
      "cell_type": "code",
      "source": [
        "from sklearn.metrics import make_scorer\n",
        "from sklearn.metrics import mean_squared_log_error\n",
        "from sklearn.model_selection import cross_val_score\n",
        "from sklearn.pipeline import make_pipeline\n",
        "from sklearn.preprocessing import StandardScaler\n",
        "from sklearn.feature_selection import RFECV\n",
        "\n",
        "# Correcting the data splitting process to match the length of the log-transformed target\n",
        "# We need to ensure that the train-test split is done after the log transformation\n",
        "X_train, X_test, y_log_train, y_log_test = train_test_split(X, y_log, test_size=0.2, random_state=42)\n",
        "\n",
        "# Create a pipeline that includes standardization and linear regression\n",
        "pipeline = make_pipeline(StandardScaler(), LinearRegression())\n",
        "\n",
        "# Use Recursive Feature Elimination with Cross-Validation (RFECV) to find the best number of features\n",
        "rfecv = RFECV(estimator=pipeline['linearregression'], step=1, cv=5, scoring='neg_mean_squared_error')\n",
        "\n",
        "# Fit RFECV to the training data and the log-transformed target\n",
        "rfecv.fit(X_train, y_log_train)\n",
        "\n",
        "# The optimal number of features can be found at `rfecv.n_features_`\n",
        "optimal_features = X_train.columns[rfecv.support_]\n",
        "\n",
        "# Train the final model with the optimal number of features\n",
        "final_pipeline = make_pipeline(StandardScaler(), LinearRegression())\n",
        "final_pipeline.fit(X_train[optimal_features], y_log_train)\n",
        "\n",
        "# Perform cross-validation to evaluate the model using RMSLE\n",
        "# We have to make a custom scorer since scikit-learn does not have RMSLE by default\n",
        "rmsle_scorer = make_scorer(rmsle, greater_is_better=False)\n",
        "\n",
        "# Cross-validation scores\n",
        "cv_scores_rmsle = cross_val_score(final_pipeline, X_train[optimal_features], y_log_train, cv=5, scoring=rmsle_scorer)\n",
        "\n",
        "# The mean RMSLE across the folds\n",
        "mean_rmsle = -cv_scores_rmsle.mean()\n",
        "\n",
        "optimal_features, mean_rmsle\n"
      ],
      "metadata": {
        "colab": {
          "base_uri": "https://localhost:8080/"
        },
        "id": "MFQH37_8m65g",
        "outputId": "611055c3-0b1b-477e-a986-83501c075e25"
      },
      "execution_count": null,
      "outputs": [
        {
          "output_type": "execute_result",
          "data": {
            "text/plain": [
              "(Index(['LDA_00', 'LDA_01', 'LDA_02', 'LDA_04'], dtype='object'),\n",
              " 0.10454053680004241)"
            ]
          },
          "metadata": {},
          "execution_count": 100
        }
      ]
    },
    {
      "cell_type": "code",
      "source": [
        "from sklearn.model_selection import GridSearchCV\n",
        "from sklearn.linear_model import Ridge\n",
        "from sklearn.preprocessing import StandardScaler\n",
        "from sklearn.pipeline import Pipeline\n",
        "\n",
        "# Create a pipeline that standardizes the data then applies Ridge regression\n",
        "pipeline = Pipeline([\n",
        "    ('scaler', StandardScaler()),\n",
        "    ('ridge', Ridge())\n",
        "])\n",
        "\n",
        "# Define a grid of alpha values to search over\n",
        "params = {'ridge__alpha': [0.01, 0.1, 1.0, 10.0, 100.0]}\n",
        "\n",
        "# Setup the grid search\n",
        "grid_search = GridSearchCV(pipeline, param_grid=params, cv=5, scoring='neg_mean_squared_error')\n",
        "\n",
        "# Fit the grid search to the data\n",
        "grid_search.fit(X_train, y_log_train)\n",
        "\n",
        "# Get the best alpha value\n",
        "best_alpha = grid_search.best_params_['ridge__alpha']\n",
        "\n",
        "# Use the best model to make predictions\n",
        "best_model = grid_search.best_estimator_\n",
        "y_pred = best_model.predict(X_test)\n",
        "\n",
        "# Coefficients of the best model\n",
        "coefficients = best_model.named_steps['ridge'].coef_\n",
        "\n",
        "coefficients\n"
      ],
      "metadata": {
        "colab": {
          "base_uri": "https://localhost:8080/"
        },
        "id": "bXu5I6mW8kBC",
        "outputId": "69f7c6ab-3d8e-4765-f2f2-67654fdb1308"
      },
      "execution_count": null,
      "outputs": [
        {
          "output_type": "execute_result",
          "data": {
            "text/plain": [
              "array([ 0.01574708,  0.02052172,  0.022984  , -0.00217214,  0.03712343,\n",
              "       -0.02525104,  0.04900668, -0.03430901,  0.02909907,  0.01019415,\n",
              "       -0.06733851,  0.02528372, -0.02012236, -0.0666111 , -0.0539069 ,\n",
              "        0.04443673,  0.04557651, -0.01143839,  0.05988841,  0.05724629,\n",
              "       -0.0708421 , -0.02567281,  0.00906038, -0.02814173, -0.05196881,\n",
              "       -0.23882582,  0.41301095,  0.02643263,  0.00560472,  0.02554551,\n",
              "        0.00918408, -0.02120806, -0.01963382, -0.01594671,  0.01238388,\n",
              "        0.03011853,  0.0276193 ,  0.04228026,  0.06920653, -0.0195046 ,\n",
              "       -0.05419047, -0.0154978 ,  0.01996994,  0.05033657, -0.00120875,\n",
              "       -0.02425709,  0.00986094,  0.04021811,  0.01039354, -0.0044504 ,\n",
              "       -0.01446767, -0.0100003 , -0.01846741,  0.00272451,  0.00457734,\n",
              "        0.02291803,  0.01968945,  0.03021509,  0.0095986 ])"
            ]
          },
          "metadata": {},
          "execution_count": 101
        }
      ]
    },
    {
      "cell_type": "code",
      "source": [
        "# Assuming 'best_model' is the Ridge pipeline from GridSearchCV that contains the scaler and ridge steps\n",
        "# and 'X_train.columns' are the feature names\n",
        "\n",
        "# Get the coefficients from the best Ridge model\n",
        "ridge_coefficients = best_model.named_steps['ridge'].coef_\n",
        "\n",
        "# Create a DataFrame to display feature names alongside their corresponding coefficients\n",
        "feature_coefficients = pd.DataFrame(data=ridge_coefficients, index=X_train.columns, columns=['Coefficient'])\n",
        "\n",
        "# Sort the features by the absolute value of their coefficients in descending order\n",
        "# This will show the most influential features at the top\n",
        "most_influential_features = feature_coefficients.abs().sort_values(by='Coefficient', ascending=False)\n",
        "\n",
        "# Display the most influential features\n",
        "print(most_influential_features)\n"
      ],
      "metadata": {
        "colab": {
          "base_uri": "https://localhost:8080/"
        },
        "id": "f3Dp1rCg-PR5",
        "outputId": "56b9807f-cd13-4b44-c5e4-c5d45370c0d2"
      },
      "execution_count": null,
      "outputs": [
        {
          "output_type": "stream",
          "name": "stdout",
          "text": [
            "                               Coefficient\n",
            "kw_avg_avg                        0.413011\n",
            "kw_max_avg                        0.238826\n",
            "kw_avg_min                        0.070842\n",
            "LDA_00                            0.069207\n",
            "average_token_length              0.067339\n",
            "data_channel_is_entertainment     0.066611\n",
            "kw_min_min                        0.059888\n",
            "kw_max_min                        0.057246\n",
            "LDA_02                            0.054190\n",
            "data_channel_is_bus               0.053907\n",
            "kw_min_avg                        0.051969\n",
            "global_subjectivity               0.050337\n",
            "num_hrefs                         0.049007\n",
            "data_channel_is_tech              0.045577\n",
            "data_channel_is_socmed            0.044437\n",
            "s_weekend                         0.042280\n",
            "rate_positive_words               0.040218\n",
            "n_non_stop_words                  0.037123\n",
            "num_self_hrefs                    0.034309\n",
            "abs_title_subjectivity            0.030215\n",
            "weekday_is_saturday               0.030119\n",
            "num_imgs                          0.029099\n",
            "kw_avg_max                        0.028142\n",
            "weekday_is_sunday                 0.027619\n",
            "self_reference_min_shares         0.026433\n",
            "kw_min_max                        0.025673\n",
            "self_reference_avg_sharess        0.025546\n",
            "num_keywords                      0.025284\n",
            "n_non_stop_unique_tokens          0.025251\n",
            "global_rate_positive_words        0.024257\n",
            "n_tokens_content                  0.022984\n",
            "title_subjectivity                0.022918\n",
            "weekday_is_tuesday                0.021208\n",
            "n_tokens_title                    0.020522\n",
            "data_channel_is_lifestyle         0.020122\n",
            "LDA_04                            0.019970\n",
            "title_sentiment_polarity          0.019689\n",
            "weekday_is_wednesday              0.019634\n",
            "LDA_01                            0.019505\n",
            "avg_negative_polarity             0.018467\n",
            "weekday_is_thursday               0.015947\n",
            "timedelta                         0.015747\n",
            "LDA_03                            0.015498\n",
            "min_positive_polarity             0.014468\n",
            "weekday_is_friday                 0.012384\n",
            "data_channel_is_world             0.011438\n",
            "rate_negative_words               0.010394\n",
            "num_videos                        0.010194\n",
            "max_positive_polarity             0.010000\n",
            "global_rate_negative_words        0.009861\n",
            "abs_title_sentiment_polarity      0.009599\n",
            "weekday_is_monday                 0.009184\n",
            "kw_max_max                        0.009060\n",
            "self_reference_max_shares         0.005605\n",
            "max_negative_polarity             0.004577\n",
            "avg_positive_polarity             0.004450\n",
            "min_negative_polarity             0.002725\n",
            "n_unique_tokens                   0.002172\n",
            "global_sentiment_polarity         0.001209\n"
          ]
        }
      ]
    },
    {
      "cell_type": "code",
      "source": [
        "# Now after getting the most_influential_features results , let's consider all important columns as features except for the target 'shares'\n",
        "# Only including the top 25 features with the higest coefficient\n",
        "X = df.drop(columns=['shares','global_sentiment_polarity','n_unique_tokens','min_negative_polarity','avg_positive_polarity','max_negative_polarity','self_reference_max_shares','kw_max_max','weekday_is_monday','abs_title_sentiment_polarity','global_rate_negative_words','max_positive_polarity','num_videos','rate_negative_words','data_channel_is_world','weekday_is_friday','min_positive_polarity','LDA_03','timedelta','weekday_is_thursday','avg_negative_polarity','LDA_01','weekday_is_wednesday','title_sentiment_polarity','LDA_04','data_channel_is_lifestyle','n_tokens_title','weekday_is_tuesday','title_subjectivity','n_tokens_content'])\n",
        "y = df['shares']"
      ],
      "metadata": {
        "id": "C6n4WZUtE81F"
      },
      "execution_count": null,
      "outputs": []
    },
    {
      "cell_type": "code",
      "source": [
        "# Log-transform the target variable to reduce the effect of very large share counts\n",
        "y_log = np.log1p(y)\n",
        "\n",
        "# Split the data into training and test sets\n",
        "X_train, X_test, y_train_log, y_test_log = train_test_split(X, y_log, test_size=0.2, random_state=42)"
      ],
      "metadata": {
        "id": "tDBqIGZvcwNO"
      },
      "execution_count": null,
      "outputs": []
    },
    {
      "cell_type": "code",
      "source": [
        "# Standardize the features\n",
        "scaler = StandardScaler()\n",
        "X_train_scaled = scaler.fit_transform(X_train)\n",
        "X_test_scaled = scaler.transform(X_test)\n"
      ],
      "metadata": {
        "id": "4BalM1i2cy9S"
      },
      "execution_count": null,
      "outputs": []
    },
    {
      "cell_type": "code",
      "source": [
        "\n",
        "# Initialize models\n",
        "models = {\n",
        "    'LinearRegression': LinearRegression(),\n",
        "    'Ridge': Ridge(),\n",
        "    'Lasso': Lasso(),\n",
        "    'RandomForestRegressor': RandomForestRegressor(),\n",
        "    'GradientBoostingRegressor': GradientBoostingRegressor()\n",
        "}"
      ],
      "metadata": {
        "id": "Bmx3puCGc2IY"
      },
      "execution_count": null,
      "outputs": []
    },
    {
      "cell_type": "code",
      "source": [
        "# Function to train and evaluate models\n",
        "def train_evaluate(models, X_train, y_train, X_test, y_test):\n",
        "    rmsle_scores = {}\n",
        "    for name, model in models.items():\n",
        "        # Train the model\n",
        "        model.fit(X_train, y_train)\n",
        "        # Predict on test set\n",
        "        y_pred_log = model.predict(X_test)\n",
        "        # Calculate RMSLE\n",
        "        rmsle_score = np.sqrt(mean_squared_log_error(np.expm1(y_test), np.expm1(y_pred_log)))\n",
        "        rmsle_scores[name] = rmsle_score\n",
        "    return rmsle_scores\n"
      ],
      "metadata": {
        "id": "UQ6x6nyYc62u"
      },
      "execution_count": null,
      "outputs": []
    },
    {
      "cell_type": "code",
      "source": [
        "# Train and evaluate models\n",
        "rmsle_scores = train_evaluate(models, X_train_scaled, y_train_log, X_test_scaled, y_test_log)\n",
        "rmsle_scores\n"
      ],
      "metadata": {
        "colab": {
          "base_uri": "https://localhost:8080/"
        },
        "id": "sm3WiFGLc-Bl",
        "outputId": "516565e2-5e76-47a1-d2d7-707dfaa12712"
      },
      "execution_count": null,
      "outputs": [
        {
          "output_type": "execute_result",
          "data": {
            "text/plain": [
              "{'LinearRegression': 0.8649065250692103,\n",
              " 'Ridge': 0.8648907769320116,\n",
              " 'Lasso': 0.9259058520210393,\n",
              " 'RandomForestRegressor': 0.8505645014571496,\n",
              " 'GradientBoostingRegressor': 0.8457475678110461}"
            ]
          },
          "metadata": {},
          "execution_count": 108
        }
      ]
    },
    {
      "cell_type": "markdown",
      "source": [],
      "metadata": {
        "id": "VUbugQHHfr7l"
      }
    },
    {
      "cell_type": "markdown",
      "source": [],
      "metadata": {
        "id": "npImRT1KfsEt"
      }
    }
  ],
  "metadata": {
    "colab": {
      "provenance": [],
      "authorship_tag": "ABX9TyP2QVnOyeZh58ygG85s2wU8",
      "include_colab_link": true
    },
    "kernelspec": {
      "display_name": "Python 3",
      "name": "python3"
    },
    "language_info": {
      "name": "python"
    }
  },
  "nbformat": 4,
  "nbformat_minor": 0
}